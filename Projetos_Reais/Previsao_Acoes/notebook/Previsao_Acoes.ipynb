{
 "cells": [
  {
   "cell_type": "markdown",
   "id": "744b8a30-9c5f-408c-9d03-89722115619f",
   "metadata": {},
   "source": [
    "## Previsao_Acoes.ipynb (estrutura de Markdown e código explicativo)\n",
    "\n",
    "## =========================================\n",
    "## PROJETO: PREVISÃO DE AÇÕES COM LSTM (Keras/TensorFlow)\n",
    "## ========================================="
   ]
  },
  {
   "cell_type": "markdown",
   "id": "c58d32c5-525d-4217-8de6-925304075126",
   "metadata": {},
   "source": [
    "### Motivação\n",
    "Preve# Projeto: Previsão de Preços de Ações com Redes LSTM\n",
    "\n",
    "Este projeto utiliza redes neurais recorrentes (RNN), especificamente LSTM (Long Short-Term Memory), para prever o próximo valor de fechamento ajustado de uma ação da B3 (Bolsa de Valores do Brasil).\n",
    "\n",
    "**Tecnologias utilizadas:** `Python`, `Pandas`, `Scikit-Learn`, `TensorFlow/Keras`, `yfinance`, `Flask`"
   ]
  },
  {
   "cell_type": "code",
   "execution_count": 1,
   "id": "015058de-30e1-488b-a32a-afcbbd86026c",
   "metadata": {},
   "outputs": [],
   "source": [
    "#!pip install yfinance pandas numpy scikit-learn tensorflow matplotlib\n",
    "\n",
    "import yfinance as yf\n",
    "import pandas as pd\n",
    "import matplotlib.pyplot as plt\n",
    "from sklearn.preprocessing import MinMaxScaler\n",
    "from tensorflow.keras.models import Sequential\n",
    "from tensorflow.keras.layers import Input, LSTM, Dense, Dropout"
   ]
  },
  {
   "cell_type": "markdown",
   "id": "67851391-5178-4800-89f3-8fe92ce54746",
   "metadata": {},
   "source": [
    "## 1. Coleta dos Dados\n",
    "Usamos a biblioteca `yfinance` para coletar dados históricos da ação desejada.\n",
    "\n",
    "A ação `PETR4.SA` (Petrobras PN) será usada como exemplo."
   ]
  },
  {
   "cell_type": "code",
   "execution_count": 2,
   "id": "fc77641f-162f-46b0-9b9f-4843c920d702",
   "metadata": {
    "scrolled": true
   },
   "outputs": [
    {
     "name": "stderr",
     "output_type": "stream",
     "text": [
      "[*********************100%***********************]  1 of 1 completed"
     ]
    },
    {
     "name": "stdout",
     "output_type": "stream",
     "text": [
      "Price          Close      High       Low      Open    Volume\n",
      "Ticker      PETR4.SA  PETR4.SA  PETR4.SA  PETR4.SA  PETR4.SA\n",
      "Date                                                        \n",
      "2018-01-02  6.077724  6.077724  5.945520  5.945520  33461800\n",
      "2018-01-03  6.132811  6.140155  6.011624  6.055692  55940900\n",
      "2018-01-04  6.143827  6.228291  6.103432  6.162190  37064900\n",
      "2018-01-05  6.180550  6.191567  6.085069  6.132810  26958200\n",
      "2018-01-08  6.253998  6.253998  6.136482  6.147500  28400000\n"
     ]
    },
    {
     "name": "stderr",
     "output_type": "stream",
     "text": [
      "\n"
     ]
    }
   ],
   "source": [
    "\n",
    "# Escolha uma ação (use o ticker com \".SA\" para ações brasileiras)\n",
    "ticker = 'PETR4.SA'\n",
    "dados = yf.download(ticker,\n",
    "                    start='2018-01-01',\n",
    "                    end='2024-05-10',\n",
    "                    auto_adjust=True)\n",
    "\n",
    "# Vamos usar apenas o preço de fechamento 'Close'\n",
    "dados_fechamento = dados['Close'].values.reshape(-1, 1)\n",
    "\n",
    "print(dados.head())"
   ]
  },
  {
   "cell_type": "code",
   "execution_count": 3,
   "id": "3c865d52-cc8f-4d15-a0c7-d98f992fd7c2",
   "metadata": {},
   "outputs": [
    {
     "name": "stdout",
     "output_type": "stream",
     "text": [
      "Price           Close       High        Low       Open    Volume\n",
      "Ticker       PETR4.SA   PETR4.SA   PETR4.SA   PETR4.SA  PETR4.SA\n",
      "Date                                                            \n",
      "2024-05-03  35.209023  35.915144  34.820656  35.915144  45114200\n",
      "2024-05-06  35.447342  35.623873  35.058976  35.191372  22977200\n",
      "2024-05-07  35.879841  35.879841  35.306115  35.438514  23808600\n",
      "2024-05-08  36.427090  36.480050  35.579744  35.615047  25352000\n",
      "2024-05-09  36.780144  36.930196  36.135808  36.241728  27206400\n"
     ]
    }
   ],
   "source": [
    "print(dados.tail())"
   ]
  },
  {
   "cell_type": "markdown",
   "id": "84abe7e3-1ca3-4bc9-be44-6a63bf5bf64a",
   "metadata": {},
   "source": [
    "## 2. Pré-processamento\n",
    "Os dados são normalizados entre 0 e 1 para melhor desempenho da rede LSTM. Em seguida, criamos sequências dos últimos 60 dias para prever o próximo valor."
   ]
  },
  {
   "cell_type": "code",
   "execution_count": 4,
   "id": "963c9537-4f26-43c1-8302-31d1c83e5fd0",
   "metadata": {},
   "outputs": [],
   "source": [
    "# Normalizar os dados\n",
    "scaler = MinMaxScaler(feature_range=(0, 1))\n",
    "dados_scaled = scaler.fit_transform(dados_fechamento)\n",
    "\n",
    "# Criar os dados de treino em sequências\n",
    "X_train = []\n",
    "y_train = []\n",
    "\n",
    "tamanho_sequencia = 60 # Olhar para os últimos 60 dias\n",
    "\n",
    "for i in range(tamanho_sequencia, len(dados_scaled)):\n",
    "    X_train.append(dados_scaled[i-tamanho_sequencia:i, 0])\n",
    "    y_train.append(dados_scaled[i, 0])\n",
    "\n",
    "# Converter para numpy arrays\n",
    "import numpy as np\n",
    "X_train, y_train = np.array(X_train), np.array(y_train)\n",
    "\n",
    "# Reshape para o formato da LSTM [samples, timesteps, features]\n",
    "X_train = np.reshape(X_train, (X_train.shape[0], X_train.shape[1], 1))"
   ]
  },
  {
   "cell_type": "markdown",
   "id": "b0a77a0b-9d7e-46cc-b955-6ff06f51e409",
   "metadata": {},
   "source": [
    "## 3. Construção do Modelo\n",
    "A arquitetura LSTM usada tem duas camadas LSTM e camadas de Dropout para evitar overfitting."
   ]
  },
  {
   "cell_type": "code",
   "execution_count": 5,
   "id": "500b9e73-a09b-439c-8758-544da68455d0",
   "metadata": {},
   "outputs": [
    {
     "data": {
      "text/html": [
       "<pre style=\"white-space:pre;overflow-x:auto;line-height:normal;font-family:Menlo,'DejaVu Sans Mono',consolas,'Courier New',monospace\"><span style=\"font-weight: bold\">Model: \"sequential\"</span>\n",
       "</pre>\n"
      ],
      "text/plain": [
       "\u001b[1mModel: \"sequential\"\u001b[0m\n"
      ]
     },
     "metadata": {},
     "output_type": "display_data"
    },
    {
     "data": {
      "text/html": [
       "<pre style=\"white-space:pre;overflow-x:auto;line-height:normal;font-family:Menlo,'DejaVu Sans Mono',consolas,'Courier New',monospace\">┏━━━━━━━━━━━━━━━━━━━━━━━━━━━━━━━━━━━━━━┳━━━━━━━━━━━━━━━━━━━━━━━━━━━━━┳━━━━━━━━━━━━━━━━━┓\n",
       "┃<span style=\"font-weight: bold\"> Layer (type)                         </span>┃<span style=\"font-weight: bold\"> Output Shape                </span>┃<span style=\"font-weight: bold\">         Param # </span>┃\n",
       "┡━━━━━━━━━━━━━━━━━━━━━━━━━━━━━━━━━━━━━━╇━━━━━━━━━━━━━━━━━━━━━━━━━━━━━╇━━━━━━━━━━━━━━━━━┩\n",
       "│ lstm (<span style=\"color: #0087ff; text-decoration-color: #0087ff\">LSTM</span>)                          │ (<span style=\"color: #00d7ff; text-decoration-color: #00d7ff\">None</span>, <span style=\"color: #00af00; text-decoration-color: #00af00\">60</span>, <span style=\"color: #00af00; text-decoration-color: #00af00\">50</span>)              │          <span style=\"color: #00af00; text-decoration-color: #00af00\">10,400</span> │\n",
       "├──────────────────────────────────────┼─────────────────────────────┼─────────────────┤\n",
       "│ dropout (<span style=\"color: #0087ff; text-decoration-color: #0087ff\">Dropout</span>)                    │ (<span style=\"color: #00d7ff; text-decoration-color: #00d7ff\">None</span>, <span style=\"color: #00af00; text-decoration-color: #00af00\">60</span>, <span style=\"color: #00af00; text-decoration-color: #00af00\">50</span>)              │               <span style=\"color: #00af00; text-decoration-color: #00af00\">0</span> │\n",
       "├──────────────────────────────────────┼─────────────────────────────┼─────────────────┤\n",
       "│ lstm_1 (<span style=\"color: #0087ff; text-decoration-color: #0087ff\">LSTM</span>)                        │ (<span style=\"color: #00d7ff; text-decoration-color: #00d7ff\">None</span>, <span style=\"color: #00af00; text-decoration-color: #00af00\">50</span>)                  │          <span style=\"color: #00af00; text-decoration-color: #00af00\">20,200</span> │\n",
       "├──────────────────────────────────────┼─────────────────────────────┼─────────────────┤\n",
       "│ dropout_1 (<span style=\"color: #0087ff; text-decoration-color: #0087ff\">Dropout</span>)                  │ (<span style=\"color: #00d7ff; text-decoration-color: #00d7ff\">None</span>, <span style=\"color: #00af00; text-decoration-color: #00af00\">50</span>)                  │               <span style=\"color: #00af00; text-decoration-color: #00af00\">0</span> │\n",
       "├──────────────────────────────────────┼─────────────────────────────┼─────────────────┤\n",
       "│ dense (<span style=\"color: #0087ff; text-decoration-color: #0087ff\">Dense</span>)                        │ (<span style=\"color: #00d7ff; text-decoration-color: #00d7ff\">None</span>, <span style=\"color: #00af00; text-decoration-color: #00af00\">1</span>)                   │              <span style=\"color: #00af00; text-decoration-color: #00af00\">51</span> │\n",
       "└──────────────────────────────────────┴─────────────────────────────┴─────────────────┘\n",
       "</pre>\n"
      ],
      "text/plain": [
       "┏━━━━━━━━━━━━━━━━━━━━━━━━━━━━━━━━━━━━━━┳━━━━━━━━━━━━━━━━━━━━━━━━━━━━━┳━━━━━━━━━━━━━━━━━┓\n",
       "┃\u001b[1m \u001b[0m\u001b[1mLayer (type)                        \u001b[0m\u001b[1m \u001b[0m┃\u001b[1m \u001b[0m\u001b[1mOutput Shape               \u001b[0m\u001b[1m \u001b[0m┃\u001b[1m \u001b[0m\u001b[1m        Param #\u001b[0m\u001b[1m \u001b[0m┃\n",
       "┡━━━━━━━━━━━━━━━━━━━━━━━━━━━━━━━━━━━━━━╇━━━━━━━━━━━━━━━━━━━━━━━━━━━━━╇━━━━━━━━━━━━━━━━━┩\n",
       "│ lstm (\u001b[38;5;33mLSTM\u001b[0m)                          │ (\u001b[38;5;45mNone\u001b[0m, \u001b[38;5;34m60\u001b[0m, \u001b[38;5;34m50\u001b[0m)              │          \u001b[38;5;34m10,400\u001b[0m │\n",
       "├──────────────────────────────────────┼─────────────────────────────┼─────────────────┤\n",
       "│ dropout (\u001b[38;5;33mDropout\u001b[0m)                    │ (\u001b[38;5;45mNone\u001b[0m, \u001b[38;5;34m60\u001b[0m, \u001b[38;5;34m50\u001b[0m)              │               \u001b[38;5;34m0\u001b[0m │\n",
       "├──────────────────────────────────────┼─────────────────────────────┼─────────────────┤\n",
       "│ lstm_1 (\u001b[38;5;33mLSTM\u001b[0m)                        │ (\u001b[38;5;45mNone\u001b[0m, \u001b[38;5;34m50\u001b[0m)                  │          \u001b[38;5;34m20,200\u001b[0m │\n",
       "├──────────────────────────────────────┼─────────────────────────────┼─────────────────┤\n",
       "│ dropout_1 (\u001b[38;5;33mDropout\u001b[0m)                  │ (\u001b[38;5;45mNone\u001b[0m, \u001b[38;5;34m50\u001b[0m)                  │               \u001b[38;5;34m0\u001b[0m │\n",
       "├──────────────────────────────────────┼─────────────────────────────┼─────────────────┤\n",
       "│ dense (\u001b[38;5;33mDense\u001b[0m)                        │ (\u001b[38;5;45mNone\u001b[0m, \u001b[38;5;34m1\u001b[0m)                   │              \u001b[38;5;34m51\u001b[0m │\n",
       "└──────────────────────────────────────┴─────────────────────────────┴─────────────────┘\n"
      ]
     },
     "metadata": {},
     "output_type": "display_data"
    },
    {
     "data": {
      "text/html": [
       "<pre style=\"white-space:pre;overflow-x:auto;line-height:normal;font-family:Menlo,'DejaVu Sans Mono',consolas,'Courier New',monospace\"><span style=\"font-weight: bold\"> Total params: </span><span style=\"color: #00af00; text-decoration-color: #00af00\">30,651</span> (119.73 KB)\n",
       "</pre>\n"
      ],
      "text/plain": [
       "\u001b[1m Total params: \u001b[0m\u001b[38;5;34m30,651\u001b[0m (119.73 KB)\n"
      ]
     },
     "metadata": {},
     "output_type": "display_data"
    },
    {
     "data": {
      "text/html": [
       "<pre style=\"white-space:pre;overflow-x:auto;line-height:normal;font-family:Menlo,'DejaVu Sans Mono',consolas,'Courier New',monospace\"><span style=\"font-weight: bold\"> Trainable params: </span><span style=\"color: #00af00; text-decoration-color: #00af00\">30,651</span> (119.73 KB)\n",
       "</pre>\n"
      ],
      "text/plain": [
       "\u001b[1m Trainable params: \u001b[0m\u001b[38;5;34m30,651\u001b[0m (119.73 KB)\n"
      ]
     },
     "metadata": {},
     "output_type": "display_data"
    },
    {
     "data": {
      "text/html": [
       "<pre style=\"white-space:pre;overflow-x:auto;line-height:normal;font-family:Menlo,'DejaVu Sans Mono',consolas,'Courier New',monospace\"><span style=\"font-weight: bold\"> Non-trainable params: </span><span style=\"color: #00af00; text-decoration-color: #00af00\">0</span> (0.00 B)\n",
       "</pre>\n"
      ],
      "text/plain": [
       "\u001b[1m Non-trainable params: \u001b[0m\u001b[38;5;34m0\u001b[0m (0.00 B)\n"
      ]
     },
     "metadata": {},
     "output_type": "display_data"
    }
   ],
   "source": [
    "# PASSO 1: Construa o modelo usando o 'Input' que acabamos de importar\n",
    "modelo = Sequential([\n",
    "    # Agora Python sabe o que é 'Input' porque o importamos acima\n",
    "    Input(shape=(X_train.shape[1], 1)),\n",
    "\n",
    "    LSTM(units=50, return_sequences=True),\n",
    "    Dropout(0.2),\n",
    "\n",
    "    LSTM(units=50, return_sequences=False),\n",
    "    Dropout(0.2),\n",
    "\n",
    "    Dense(units=1)\n",
    "])\n",
    "\n",
    "# PASSO 2: Compile e visualize (sem alterações aqui)\n",
    "modelo.compile(optimizer='adam', loss='mean_squared_error')\n",
    "\n",
    "# Visualizar a arquitetura\n",
    "modelo.summary()"
   ]
  },
  {
   "cell_type": "markdown",
   "id": "8102026f-40b0-4aa5-917c-d0d8405c8703",
   "metadata": {},
   "source": [
    "## 4. Treinamento\n",
    "Treinamos a rede por 25 épocas usando um batch size de 32."
   ]
  },
  {
   "cell_type": "code",
   "execution_count": 6,
   "id": "ec24bb51-93d0-462f-a556-889962b7c117",
   "metadata": {},
   "outputs": [
    {
     "name": "stdout",
     "output_type": "stream",
     "text": [
      "Epoch 1/25\n",
      "\u001b[1m48/48\u001b[0m \u001b[32m━━━━━━━━━━━━━━━━━━━━\u001b[0m\u001b[37m\u001b[0m \u001b[1m12s\u001b[0m 58ms/step - loss: 0.0448\n",
      "Epoch 2/25\n",
      "\u001b[1m48/48\u001b[0m \u001b[32m━━━━━━━━━━━━━━━━━━━━\u001b[0m\u001b[37m\u001b[0m \u001b[1m3s\u001b[0m 56ms/step - loss: 0.0027\n",
      "Epoch 3/25\n",
      "\u001b[1m48/48\u001b[0m \u001b[32m━━━━━━━━━━━━━━━━━━━━\u001b[0m\u001b[37m\u001b[0m \u001b[1m3s\u001b[0m 60ms/step - loss: 0.0019\n",
      "Epoch 4/25\n",
      "\u001b[1m48/48\u001b[0m \u001b[32m━━━━━━━━━━━━━━━━━━━━\u001b[0m\u001b[37m\u001b[0m \u001b[1m3s\u001b[0m 61ms/step - loss: 0.0019\n",
      "Epoch 5/25\n",
      "\u001b[1m48/48\u001b[0m \u001b[32m━━━━━━━━━━━━━━━━━━━━\u001b[0m\u001b[37m\u001b[0m \u001b[1m3s\u001b[0m 56ms/step - loss: 0.0020\n",
      "Epoch 6/25\n",
      "\u001b[1m48/48\u001b[0m \u001b[32m━━━━━━━━━━━━━━━━━━━━\u001b[0m\u001b[37m\u001b[0m \u001b[1m3s\u001b[0m 55ms/step - loss: 0.0019\n",
      "Epoch 7/25\n",
      "\u001b[1m48/48\u001b[0m \u001b[32m━━━━━━━━━━━━━━━━━━━━\u001b[0m\u001b[37m\u001b[0m \u001b[1m5s\u001b[0m 59ms/step - loss: 0.0017\n",
      "Epoch 8/25\n",
      "\u001b[1m48/48\u001b[0m \u001b[32m━━━━━━━━━━━━━━━━━━━━\u001b[0m\u001b[37m\u001b[0m \u001b[1m3s\u001b[0m 56ms/step - loss: 0.0017\n",
      "Epoch 9/25\n",
      "\u001b[1m48/48\u001b[0m \u001b[32m━━━━━━━━━━━━━━━━━━━━\u001b[0m\u001b[37m\u001b[0m \u001b[1m3s\u001b[0m 56ms/step - loss: 0.0014\n",
      "Epoch 10/25\n",
      "\u001b[1m48/48\u001b[0m \u001b[32m━━━━━━━━━━━━━━━━━━━━\u001b[0m\u001b[37m\u001b[0m \u001b[1m3s\u001b[0m 56ms/step - loss: 0.0014\n",
      "Epoch 11/25\n",
      "\u001b[1m48/48\u001b[0m \u001b[32m━━━━━━━━━━━━━━━━━━━━\u001b[0m\u001b[37m\u001b[0m \u001b[1m3s\u001b[0m 58ms/step - loss: 0.0019\n",
      "Epoch 12/25\n",
      "\u001b[1m48/48\u001b[0m \u001b[32m━━━━━━━━━━━━━━━━━━━━\u001b[0m\u001b[37m\u001b[0m \u001b[1m3s\u001b[0m 61ms/step - loss: 0.0016\n",
      "Epoch 13/25\n",
      "\u001b[1m48/48\u001b[0m \u001b[32m━━━━━━━━━━━━━━━━━━━━\u001b[0m\u001b[37m\u001b[0m \u001b[1m3s\u001b[0m 57ms/step - loss: 0.0015\n",
      "Epoch 14/25\n",
      "\u001b[1m48/48\u001b[0m \u001b[32m━━━━━━━━━━━━━━━━━━━━\u001b[0m\u001b[37m\u001b[0m \u001b[1m3s\u001b[0m 57ms/step - loss: 0.0015\n",
      "Epoch 15/25\n",
      "\u001b[1m48/48\u001b[0m \u001b[32m━━━━━━━━━━━━━━━━━━━━\u001b[0m\u001b[37m\u001b[0m \u001b[1m5s\u001b[0m 59ms/step - loss: 0.0018\n",
      "Epoch 16/25\n",
      "\u001b[1m48/48\u001b[0m \u001b[32m━━━━━━━━━━━━━━━━━━━━\u001b[0m\u001b[37m\u001b[0m \u001b[1m3s\u001b[0m 57ms/step - loss: 0.0015\n",
      "Epoch 17/25\n",
      "\u001b[1m48/48\u001b[0m \u001b[32m━━━━━━━━━━━━━━━━━━━━\u001b[0m\u001b[37m\u001b[0m \u001b[1m3s\u001b[0m 57ms/step - loss: 0.0014\n",
      "Epoch 18/25\n",
      "\u001b[1m48/48\u001b[0m \u001b[32m━━━━━━━━━━━━━━━━━━━━\u001b[0m\u001b[37m\u001b[0m \u001b[1m3s\u001b[0m 59ms/step - loss: 0.0012\n",
      "Epoch 19/25\n",
      "\u001b[1m48/48\u001b[0m \u001b[32m━━━━━━━━━━━━━━━━━━━━\u001b[0m\u001b[37m\u001b[0m \u001b[1m3s\u001b[0m 61ms/step - loss: 0.0014\n",
      "Epoch 20/25\n",
      "\u001b[1m48/48\u001b[0m \u001b[32m━━━━━━━━━━━━━━━━━━━━\u001b[0m\u001b[37m\u001b[0m \u001b[1m3s\u001b[0m 56ms/step - loss: 0.0010\n",
      "Epoch 21/25\n",
      "\u001b[1m48/48\u001b[0m \u001b[32m━━━━━━━━━━━━━━━━━━━━\u001b[0m\u001b[37m\u001b[0m \u001b[1m3s\u001b[0m 59ms/step - loss: 0.0012\n",
      "Epoch 22/25\n",
      "\u001b[1m48/48\u001b[0m \u001b[32m━━━━━━━━━━━━━━━━━━━━\u001b[0m\u001b[37m\u001b[0m \u001b[1m3s\u001b[0m 60ms/step - loss: 0.0012\n",
      "Epoch 23/25\n",
      "\u001b[1m48/48\u001b[0m \u001b[32m━━━━━━━━━━━━━━━━━━━━\u001b[0m\u001b[37m\u001b[0m \u001b[1m3s\u001b[0m 57ms/step - loss: 0.0012\n",
      "Epoch 24/25\n",
      "\u001b[1m48/48\u001b[0m \u001b[32m━━━━━━━━━━━━━━━━━━━━\u001b[0m\u001b[37m\u001b[0m \u001b[1m3s\u001b[0m 57ms/step - loss: 0.0013\n",
      "Epoch 25/25\n",
      "\u001b[1m48/48\u001b[0m \u001b[32m━━━━━━━━━━━━━━━━━━━━\u001b[0m\u001b[37m\u001b[0m \u001b[1m3s\u001b[0m 59ms/step - loss: 0.0012\n"
     ]
    }
   ],
   "source": [
    "# Treinar o modelo\n",
    "historico = modelo.fit(X_train, y_train, epochs=25, batch_size=32)"
   ]
  },
  {
   "cell_type": "markdown",
   "id": "4f3e1ab0-c74d-4e23-af25-5311f15fa6ce",
   "metadata": {},
   "source": [
    "## 5. Previsão\n",
    "Usamos os últimos 60 dias da série para prever o preço de fechamento do próximo dia útil."
   ]
  },
  {
   "cell_type": "code",
   "execution_count": 7,
   "id": "43e10643-e666-407b-8fe1-9507d8fbd861",
   "metadata": {},
   "outputs": [
    {
     "name": "stdout",
     "output_type": "stream",
     "text": [
      "\u001b[1m1/1\u001b[0m \u001b[32m━━━━━━━━━━━━━━━━━━━━\u001b[0m\u001b[37m\u001b[0m \u001b[1m1s\u001b[0m 670ms/step\n",
      "Previsão do preço de fechamento para o próximo dia: R$ 35.61\n"
     ]
    }
   ],
   "source": [
    "# Para testar, precisamos dos últimos 60 dias do nosso dataset\n",
    "ultimos_60_dias = dados_fechamento[-tamanho_sequencia:]\n",
    "\n",
    "# Normalizar esses dados usando o mesmo scaler\n",
    "ultimos_60_dias_scaled = scaler.transform(ultimos_60_dias)\n",
    "\n",
    "# Criar o X_test\n",
    "X_test = []\n",
    "X_test.append(ultimos_60_dias_scaled)\n",
    "X_test = np.array(X_test)\n",
    "X_test = np.reshape(X_test, (X_test.shape[0], X_test.shape[1], 1))\n",
    "\n",
    "# Fazer a previsão\n",
    "preco_previsto_scaled = modelo.predict(X_test)\n",
    "\n",
    "# Reverter a normalização para obter o preço em R$\n",
    "preco_previsto = scaler.inverse_transform(preco_previsto_scaled)\n",
    "\n",
    "print(f\"Previsão do preço de fechamento para o próximo dia: R$ {preco_previsto[0][0]:.2f}\")"
   ]
  },
  {
   "cell_type": "markdown",
   "id": "e77420e6-befd-43d9-ab24-7fd38cbd3a4d",
   "metadata": {},
   "source": [
    "## Conclusão\n",
    "\n",
    "- O modelo foi capaz de aprender padrões históricos da série de preços.\n",
    "- LSTM é adequado para problemas de séries temporais pois mantém dependências de longo prazo.\n",
    "- O projeto pode ser estendido com múltiplos atributos (volume, abertura, etc.) ou modelos mais complexos (CNN-LSTM, Attention)."
   ]
  },
  {
   "cell_type": "code",
   "execution_count": null,
   "id": "12061821-afa6-40a6-a515-8139037882ff",
   "metadata": {},
   "outputs": [],
   "source": []
  }
 ],
 "metadata": {
  "kernelspec": {
   "display_name": "Python [conda env:base] *",
   "language": "python",
   "name": "conda-base-py"
  },
  "language_info": {
   "codemirror_mode": {
    "name": "ipython",
    "version": 3
   },
   "file_extension": ".py",
   "mimetype": "text/x-python",
   "name": "python",
   "nbconvert_exporter": "python",
   "pygments_lexer": "ipython3",
   "version": "3.12.7"
  }
 },
 "nbformat": 4,
 "nbformat_minor": 5
}
