{
 "cells": [
  {
   "cell_type": "markdown",
   "id": "85b42c15-5609-4e57-b2ef-3e3d7b517685",
   "metadata": {},
   "source": [
    "# Conceitos de MLP para Regressão\n",
    "\n",
    "\"\"\"\n",
    "- MLP: Multi-Layer Perceptron → rede neural com múltiplas camadas ocultas\n",
    "- Aplicada para tarefas de regressão (valor contínuo)\n",
    "\"\"\"\n",
    "\n",
    "# Estrutura típica\n",
    "\"\"\"\n",
    "Entrada → Camadas ocultas com ReLU → Saída com 1 neurônio (sem ativação)\n",
    "\"\"\"\n",
    "\n",
    "# Função de perda\n",
    "\"\"\"\n",
    "- Para regressão usamos:\n",
    "  - MSE (Mean Squared Error): erro quadrático médio\n",
    "  - MAE (Mean Absolute Error): erro absoluto médio\n",
    "\"\"\"\n",
    "\n",
    "# Métricas comuns\n",
    "\"\"\"\n",
    "- MAE: média dos erros absolutos\n",
    "- RMSE: raiz do MSE → valor mais interpretável na mesma escala do target\n",
    "\"\"\"\n",
    "\n",
    "# Exemplo:\n",
    "\"\"\"\n",
    "model = Sequential([\n",
    "    Input(shape=(n_features,)),\n",
    "    Dense(64, activation='relu'),\n",
    "    Dense(32, activation='relu'),\n",
    "    Dense(1)  # saída contínua\n",
    "])\n",
    "model.compile(optimizer='adam', loss='mse', metrics=['mae'])\n",
    "\"\"\"\n"
   ]
  },
  {
   "cell_type": "code",
   "execution_count": null,
   "id": "cb0067c2-8f91-42bd-ada5-283fc8e7856b",
   "metadata": {},
   "outputs": [],
   "source": []
  }
 ],
 "metadata": {
  "kernelspec": {
   "display_name": "Python [conda env:base] *",
   "language": "python",
   "name": "conda-base-py"
  },
  "language_info": {
   "codemirror_mode": {
    "name": "ipython",
    "version": 3
   },
   "file_extension": ".py",
   "mimetype": "text/x-python",
   "name": "python",
   "nbconvert_exporter": "python",
   "pygments_lexer": "ipython3",
   "version": "3.12.7"
  }
 },
 "nbformat": 4,
 "nbformat_minor": 5
}
