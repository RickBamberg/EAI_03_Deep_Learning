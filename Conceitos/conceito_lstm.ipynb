{
 "cells": [
  {
   "cell_type": "markdown",
   "id": "6cb00b30-f209-4e5f-8c51-bd2f6c03c82c",
   "metadata": {},
   "source": [
    "## 📘 1. Introdução\n",
    "--------------------------------------------------------------\n",
    "As LSTMs são uma variação de RNNs que resolvem o problema do\n",
    "desvanecimento/explosão do gradiente ao treinar sequências longas.\n",
    "Elas utilizam \"portas\" para controlar o fluxo de informações.\n",
    "\n",
    "LSTMs são eficazes para:\n",
    "- Previsão de séries temporais\n",
    "- Tradução automática\n",
    "- Geração de texto\n",
    "- Reconhecimento de fala"
   ]
  },
  {
   "cell_type": "markdown",
   "id": "8f766cb5-fd5e-49d5-bde1-0935653048c7",
   "metadata": {},
   "source": [
    "## 📘 2. Estrutura de uma célula LSTM\n",
    "--------------------------------------------------------------\n",
    "Uma célula LSTM possui três portas principais:\n",
    "- Porta de entrada: decide quais informações adicionar à memória\n",
    "- Porta de esquecimento: decide o que deve ser descartado\n",
    "- Porta de saída: decide o que será enviado para a próxima célula\n",
    "\n",
    "Essa estrutura permite que a LSTM mantenha informações por longos\n",
    "períodos, superando limitações das RNNs simples."
   ]
  },
  {
   "cell_type": "markdown",
   "id": "df212d46-739e-450c-9085-b251abe9b99b",
   "metadata": {},
   "source": [
    "## 📘 3. Exemplo prático: Prever sequência de números\n",
    "- Usaremos a mesma ideia do exemplo anterior (0, 1, 2, ...)\n",
    "\n",
    "- Treinaremos uma rede com LSTM"
   ]
  },
  {
   "cell_type": "code",
   "execution_count": 1,
   "id": "8da565a2-8536-4178-814f-5ddd8efa7ad6",
   "metadata": {},
   "outputs": [],
   "source": [
    "import numpy as np\n",
    "from tensorflow.keras.models import Sequential\n",
    "from tensorflow.keras.layers import LSTM, Dense\n",
    "from tensorflow.keras import Input\n",
    "import matplotlib.pyplot as plt\n",
    "\n",
    "# Criando sequência simples de números\n",
    "dados = np.arange(100)\n",
    "\n",
    "# Função para criar pares de sequência\n",
    "def criar_sequencia(dados, passo):\n",
    "    X, y = [], []\n",
    "    for i in range(len(dados) - passo):\n",
    "        X.append(dados[i:i+passo])\n",
    "        y.append(dados[i+passo])\n",
    "    return np.array(X), np.array(y)\n",
    "\n",
    "passo = 5\n",
    "X, y = criar_sequencia(dados, passo)\n",
    "X = X.reshape((X.shape[0], X.shape[1], 1))\n",
    "\n",
    "# Normalização\n",
    "X = X / np.max(dados)\n",
    "y = y / np.max(dados)\n",
    "\n",
    "# Divisão em treino/teste\n",
    "split = int(len(X)*0.8)\n",
    "X_train, X_test = X[:split], X[split:]\n",
    "y_train, y_test = y[:split], y[split:]"
   ]
  },
  {
   "cell_type": "markdown",
   "id": "e6c8a932-738b-4b1c-a3d5-7f09d0115def",
   "metadata": {},
   "source": [
    "### 📘 4. Construção do modelo LSTM"
   ]
  },
  {
   "cell_type": "code",
   "execution_count": 2,
   "id": "fc9fed9d-df46-4568-8118-d9c27e59cd85",
   "metadata": {},
   "outputs": [
    {
     "data": {
      "text/html": [
       "<pre style=\"white-space:pre;overflow-x:auto;line-height:normal;font-family:Menlo,'DejaVu Sans Mono',consolas,'Courier New',monospace\"><span style=\"font-weight: bold\">Model: \"sequential\"</span>\n",
       "</pre>\n"
      ],
      "text/plain": [
       "\u001b[1mModel: \"sequential\"\u001b[0m\n"
      ]
     },
     "metadata": {},
     "output_type": "display_data"
    },
    {
     "data": {
      "text/html": [
       "<pre style=\"white-space:pre;overflow-x:auto;line-height:normal;font-family:Menlo,'DejaVu Sans Mono',consolas,'Courier New',monospace\">┏━━━━━━━━━━━━━━━━━━━━━━━━━━━━━━━━━━━━━━┳━━━━━━━━━━━━━━━━━━━━━━━━━━━━━┳━━━━━━━━━━━━━━━━━┓\n",
       "┃<span style=\"font-weight: bold\"> Layer (type)                         </span>┃<span style=\"font-weight: bold\"> Output Shape                </span>┃<span style=\"font-weight: bold\">         Param # </span>┃\n",
       "┡━━━━━━━━━━━━━━━━━━━━━━━━━━━━━━━━━━━━━━╇━━━━━━━━━━━━━━━━━━━━━━━━━━━━━╇━━━━━━━━━━━━━━━━━┩\n",
       "│ lstm (<span style=\"color: #0087ff; text-decoration-color: #0087ff\">LSTM</span>)                          │ (<span style=\"color: #00d7ff; text-decoration-color: #00d7ff\">None</span>, <span style=\"color: #00af00; text-decoration-color: #00af00\">10</span>)                  │             <span style=\"color: #00af00; text-decoration-color: #00af00\">480</span> │\n",
       "├──────────────────────────────────────┼─────────────────────────────┼─────────────────┤\n",
       "│ dense (<span style=\"color: #0087ff; text-decoration-color: #0087ff\">Dense</span>)                        │ (<span style=\"color: #00d7ff; text-decoration-color: #00d7ff\">None</span>, <span style=\"color: #00af00; text-decoration-color: #00af00\">1</span>)                   │              <span style=\"color: #00af00; text-decoration-color: #00af00\">11</span> │\n",
       "└──────────────────────────────────────┴─────────────────────────────┴─────────────────┘\n",
       "</pre>\n"
      ],
      "text/plain": [
       "┏━━━━━━━━━━━━━━━━━━━━━━━━━━━━━━━━━━━━━━┳━━━━━━━━━━━━━━━━━━━━━━━━━━━━━┳━━━━━━━━━━━━━━━━━┓\n",
       "┃\u001b[1m \u001b[0m\u001b[1mLayer (type)                        \u001b[0m\u001b[1m \u001b[0m┃\u001b[1m \u001b[0m\u001b[1mOutput Shape               \u001b[0m\u001b[1m \u001b[0m┃\u001b[1m \u001b[0m\u001b[1m        Param #\u001b[0m\u001b[1m \u001b[0m┃\n",
       "┡━━━━━━━━━━━━━━━━━━━━━━━━━━━━━━━━━━━━━━╇━━━━━━━━━━━━━━━━━━━━━━━━━━━━━╇━━━━━━━━━━━━━━━━━┩\n",
       "│ lstm (\u001b[38;5;33mLSTM\u001b[0m)                          │ (\u001b[38;5;45mNone\u001b[0m, \u001b[38;5;34m10\u001b[0m)                  │             \u001b[38;5;34m480\u001b[0m │\n",
       "├──────────────────────────────────────┼─────────────────────────────┼─────────────────┤\n",
       "│ dense (\u001b[38;5;33mDense\u001b[0m)                        │ (\u001b[38;5;45mNone\u001b[0m, \u001b[38;5;34m1\u001b[0m)                   │              \u001b[38;5;34m11\u001b[0m │\n",
       "└──────────────────────────────────────┴─────────────────────────────┴─────────────────┘\n"
      ]
     },
     "metadata": {},
     "output_type": "display_data"
    },
    {
     "data": {
      "text/html": [
       "<pre style=\"white-space:pre;overflow-x:auto;line-height:normal;font-family:Menlo,'DejaVu Sans Mono',consolas,'Courier New',monospace\"><span style=\"font-weight: bold\"> Total params: </span><span style=\"color: #00af00; text-decoration-color: #00af00\">491</span> (1.92 KB)\n",
       "</pre>\n"
      ],
      "text/plain": [
       "\u001b[1m Total params: \u001b[0m\u001b[38;5;34m491\u001b[0m (1.92 KB)\n"
      ]
     },
     "metadata": {},
     "output_type": "display_data"
    },
    {
     "data": {
      "text/html": [
       "<pre style=\"white-space:pre;overflow-x:auto;line-height:normal;font-family:Menlo,'DejaVu Sans Mono',consolas,'Courier New',monospace\"><span style=\"font-weight: bold\"> Trainable params: </span><span style=\"color: #00af00; text-decoration-color: #00af00\">491</span> (1.92 KB)\n",
       "</pre>\n"
      ],
      "text/plain": [
       "\u001b[1m Trainable params: \u001b[0m\u001b[38;5;34m491\u001b[0m (1.92 KB)\n"
      ]
     },
     "metadata": {},
     "output_type": "display_data"
    },
    {
     "data": {
      "text/html": [
       "<pre style=\"white-space:pre;overflow-x:auto;line-height:normal;font-family:Menlo,'DejaVu Sans Mono',consolas,'Courier New',monospace\"><span style=\"font-weight: bold\"> Non-trainable params: </span><span style=\"color: #00af00; text-decoration-color: #00af00\">0</span> (0.00 B)\n",
       "</pre>\n"
      ],
      "text/plain": [
       "\u001b[1m Non-trainable params: \u001b[0m\u001b[38;5;34m0\u001b[0m (0.00 B)\n"
      ]
     },
     "metadata": {},
     "output_type": "display_data"
    }
   ],
   "source": [
    "model = Sequential()\n",
    "model.add(Input(shape=(passo, 1)))\n",
    "model.add(LSTM(10, activation='tanh'))\n",
    "model.add(Dense(1))\n",
    "model.compile(optimizer='adam', loss='mse')\n",
    "model.summary()"
   ]
  },
  {
   "cell_type": "markdown",
   "id": "fc6d9e53-536a-45ce-bb46-73e40dfba356",
   "metadata": {},
   "source": [
    "### 📘 5. Treinamento e Avaliação"
   ]
  },
  {
   "cell_type": "code",
   "execution_count": 3,
   "id": "cf0a6ae2-461e-4b72-8241-351ca7976f39",
   "metadata": {},
   "outputs": [
    {
     "name": "stdout",
     "output_type": "stream",
     "text": [
      "\u001b[1m1/1\u001b[0m \u001b[32m━━━━━━━━━━━━━━━━━━━━\u001b[0m\u001b[37m\u001b[0m \u001b[1m1s\u001b[0m 615ms/step - loss: 5.6296e-05\n",
      "Loss no teste: 0.000056\n",
      "\u001b[1m1/1\u001b[0m \u001b[32m━━━━━━━━━━━━━━━━━━━━\u001b[0m\u001b[37m\u001b[0m \u001b[1m1s\u001b[0m 531ms/step\n"
     ]
    }
   ],
   "source": [
    "history = model.fit(X_train, y_train, epochs=200, verbose=0)\n",
    "loss = model.evaluate(X_test, y_test)\n",
    "print(f\"Loss no teste: {loss:.6f}\")\n",
    "\n",
    "# Predição\n",
    "y_pred = model.predict(X_test)\n",
    "\n",
    "# Desnormalizando resultados\n",
    "y_pred_rescaled = y_pred * np.max(dados)\n",
    "y_test_rescaled = y_test * np.max(dados)"
   ]
  },
  {
   "cell_type": "markdown",
   "id": "1ff1ce58-71eb-4482-8a3c-fb69ce2771a3",
   "metadata": {},
   "source": [
    "### 📘 6. Visualização"
   ]
  },
  {
   "cell_type": "code",
   "execution_count": 4,
   "id": "11027cd0-5df0-4c4e-bebd-27245a87a4b7",
   "metadata": {},
   "outputs": [
    {
     "data": {
      "image/png": "[encoded data removed]",
      "text/plain": [
       "<Figure size 640x480 with 1 Axes>"
      ]
     },
     "metadata": {},
     "output_type": "display_data"
    }
   ],
   "source": [
    "plt.plot(y_test_rescaled, label='Real')\n",
    "plt.plot(y_pred_rescaled, label='Previsto')\n",
    "plt.title(\"Previsão com LSTM\")\n",
    "plt.xlabel(\"Amostras\")\n",
    "plt.ylabel(\"Valor\")\n",
    "plt.legend()\n",
    "plt.grid(True)\n",
    "plt.tight_layout()\n",
    "plt.show()"
   ]
  },
  {
   "cell_type": "markdown",
   "id": "b6132c80-f5c7-49aa-9e36-6c32b0221ea2",
   "metadata": {},
   "source": [
    "### 📘 7. Conclusão\n",
    "--------------------------------------------------------------\n",
    "- LSTMs são eficazes para capturar padrões em sequências longas.\n",
    "- Neste exemplo simples, observamos boa previsão mesmo com poucos neurônios.\n",
    "- LSTM é base para arquiteturas mais avançadas como GRU, BiLSTM e Transformers.\n",
    "\n",
    "Em problemas reais, é comum:\n",
    "- Usar mais neurônios e camadas empilhadas\n",
    "- Trabalhar com textos, séries temporais multivariadas, etc.\n",
    "\n",
    "Fim do conceito LSTM."
   ]
  },
  {
   "cell_type": "code",
   "execution_count": null,
   "id": "a7b21431-dcfa-47f8-b6a0-f3438c5614ea",
   "metadata": {},
   "outputs": [],
   "source": []
  }
 ],
 "metadata": {
  "kernelspec": {
   "display_name": "Python [conda env:base] *",
   "language": "python",
   "name": "conda-base-py"
  },
  "language_info": {
   "codemirror_mode": {
    "name": "ipython",
    "version": 3
   },
   "file_extension": ".py",
   "mimetype": "text/x-python",
   "name": "python",
   "nbconvert_exporter": "python",
   "pygments_lexer": "ipython3",
   "version": "3.12.7"
  }
 },
 "nbformat": 4,
 "nbformat_minor": 5
}
