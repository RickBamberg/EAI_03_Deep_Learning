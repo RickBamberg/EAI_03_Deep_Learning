{
 "cells": [
  {
   "cell_type": "markdown",
   "id": "30934495-f98b-44d1-b5e4-f261c8b4dccd",
   "metadata": {},
   "source": [
    "## CONCEITO: REDES NEURAIS RECORRENTES (RNN)"
   ]
  },
  {
   "cell_type": "markdown",
   "id": "82a589e3-788c-46f9-9203-8d3ed30a48f6",
   "metadata": {},
   "source": [
    "### 📘 1. Introdução\n",
    "--------------------------------------------------------------\n",
    "RNNs (Redes Neurais Recorrentes) são redes projetadas para lidar\n",
    "com dados sequenciais, como texto, séries temporais ou sinais.\n",
    "A principal característica é a \"memória interna\":\n",
    "a saída depende não apenas do input atual, mas também dos anteriores.\n",
    "\n",
    "Exemplo de aplicações:\n",
    "- Previsão de séries temporais (clima, preços)\n",
    "- Modelagem de linguagem (texto, fala)\n",
    "- Análise de sentimentos em texto\n",
    "\n",
    "==============================================================\n",
    "\n",
    "### 📘 2. Diferença entre ANN e RNN\n",
    "--------------------------------------------------------------\n",
    "ANN: entrada → camada oculta → saída (sem memória)\n",
    "RNN: entrada(t) + estado(t-1) → camada oculta → saída(t) + estado(t)\n",
    "\n",
    "Cada passo depende do anterior, permitindo aprender dependências\n",
    "temporais.\n",
    "\n",
    "==============================================================\n",
    "\n",
    "### 📘 3. Exemplo prático: Previsão de sequência numérica\n",
    "--------------------------------------------------------------\n",
    "Objetivo: dado um número, prever o próximo na sequência: [0,1,2,3...]\n"
   ]
  },
  {
   "cell_type": "code",
   "execution_count": 5,
   "id": "f1793975-ab02-4ab2-9dca-42be9c15e364",
   "metadata": {},
   "outputs": [],
   "source": [
    "import numpy as np\n",
    "from tensorflow.keras.models import Sequential\n",
    "from tensorflow.keras.layers import SimpleRNN, Dense\n",
    "from tensorflow.keras import Input\n",
    "import matplotlib.pyplot as plt\n",
    "\n",
    "# Gerar sequência simples (0 a 99)\n",
    "dados = np.arange(100)\n",
    "\n",
    "# Criar pares de entrada/saída (ex: 0→1, 1→2, ...)\n",
    "def criar_sequencia(dados, passo):\n",
    "    X, y = [], []\n",
    "    for i in range(len(dados) - passo):\n",
    "        X.append(dados[i:i+passo])\n",
    "        y.append(dados[i+passo])\n",
    "    return np.array(X), np.array(y)\n",
    "\n",
    "passo = 5\n",
    "X, y = criar_sequencia(dados, passo)\n",
    "\n",
    "# Ajustar formato para RNN: [amostras, passos, características]\n",
    "X = X.reshape((X.shape[0], X.shape[1], 1))\n",
    "\n",
    "# Normalizar (0-1)\n",
    "X = X / np.max(dados)\n",
    "y = y / np.max(dados)\n",
    "\n",
    "# Dividir em treino/teste\n",
    "split = int(len(X)*0.8)\n",
    "X_train, X_test = X[:split], X[split:]\n",
    "y_train, y_test = y[:split], y[split:]"
   ]
  },
  {
   "cell_type": "markdown",
   "id": "51952528-6ca5-493e-acfe-dfd840ed28b4",
   "metadata": {},
   "source": [
    "### 📘 4. Construindo a RNN"
   ]
  },
  {
   "cell_type": "code",
   "execution_count": 6,
   "id": "70fcae81-8427-4f1d-b5e9-a634ce27c198",
   "metadata": {},
   "outputs": [
    {
     "data": {
      "text/html": [
       "<pre style=\"white-space:pre;overflow-x:auto;line-height:normal;font-family:Menlo,'DejaVu Sans Mono',consolas,'Courier New',monospace\"><span style=\"font-weight: bold\">Model: \"sequential_2\"</span>\n",
       "</pre>\n"
      ],
      "text/plain": [
       "\u001b[1mModel: \"sequential_2\"\u001b[0m\n"
      ]
     },
     "metadata": {},
     "output_type": "display_data"
    },
    {
     "data": {
      "text/html": [
       "<pre style=\"white-space:pre;overflow-x:auto;line-height:normal;font-family:Menlo,'DejaVu Sans Mono',consolas,'Courier New',monospace\">┏━━━━━━━━━━━━━━━━━━━━━━━━━━━━━━━━━━━━━━┳━━━━━━━━━━━━━━━━━━━━━━━━━━━━━┳━━━━━━━━━━━━━━━━━┓\n",
       "┃<span style=\"font-weight: bold\"> Layer (type)                         </span>┃<span style=\"font-weight: bold\"> Output Shape                </span>┃<span style=\"font-weight: bold\">         Param # </span>┃\n",
       "┡━━━━━━━━━━━━━━━━━━━━━━━━━━━━━━━━━━━━━━╇━━━━━━━━━━━━━━━━━━━━━━━━━━━━━╇━━━━━━━━━━━━━━━━━┩\n",
       "│ simple_rnn_1 (<span style=\"color: #0087ff; text-decoration-color: #0087ff\">SimpleRNN</span>)             │ (<span style=\"color: #00d7ff; text-decoration-color: #00d7ff\">None</span>, <span style=\"color: #00af00; text-decoration-color: #00af00\">10</span>)                  │             <span style=\"color: #00af00; text-decoration-color: #00af00\">120</span> │\n",
       "├──────────────────────────────────────┼─────────────────────────────┼─────────────────┤\n",
       "│ dense_1 (<span style=\"color: #0087ff; text-decoration-color: #0087ff\">Dense</span>)                      │ (<span style=\"color: #00d7ff; text-decoration-color: #00d7ff\">None</span>, <span style=\"color: #00af00; text-decoration-color: #00af00\">1</span>)                   │              <span style=\"color: #00af00; text-decoration-color: #00af00\">11</span> │\n",
       "└──────────────────────────────────────┴─────────────────────────────┴─────────────────┘\n",
       "</pre>\n"
      ],
      "text/plain": [
       "┏━━━━━━━━━━━━━━━━━━━━━━━━━━━━━━━━━━━━━━┳━━━━━━━━━━━━━━━━━━━━━━━━━━━━━┳━━━━━━━━━━━━━━━━━┓\n",
       "┃\u001b[1m \u001b[0m\u001b[1mLayer (type)                        \u001b[0m\u001b[1m \u001b[0m┃\u001b[1m \u001b[0m\u001b[1mOutput Shape               \u001b[0m\u001b[1m \u001b[0m┃\u001b[1m \u001b[0m\u001b[1m        Param #\u001b[0m\u001b[1m \u001b[0m┃\n",
       "┡━━━━━━━━━━━━━━━━━━━━━━━━━━━━━━━━━━━━━━╇━━━━━━━━━━━━━━━━━━━━━━━━━━━━━╇━━━━━━━━━━━━━━━━━┩\n",
       "│ simple_rnn_1 (\u001b[38;5;33mSimpleRNN\u001b[0m)             │ (\u001b[38;5;45mNone\u001b[0m, \u001b[38;5;34m10\u001b[0m)                  │             \u001b[38;5;34m120\u001b[0m │\n",
       "├──────────────────────────────────────┼─────────────────────────────┼─────────────────┤\n",
       "│ dense_1 (\u001b[38;5;33mDense\u001b[0m)                      │ (\u001b[38;5;45mNone\u001b[0m, \u001b[38;5;34m1\u001b[0m)                   │              \u001b[38;5;34m11\u001b[0m │\n",
       "└──────────────────────────────────────┴─────────────────────────────┴─────────────────┘\n"
      ]
     },
     "metadata": {},
     "output_type": "display_data"
    },
    {
     "data": {
      "text/html": [
       "<pre style=\"white-space:pre;overflow-x:auto;line-height:normal;font-family:Menlo,'DejaVu Sans Mono',consolas,'Courier New',monospace\"><span style=\"font-weight: bold\"> Total params: </span><span style=\"color: #00af00; text-decoration-color: #00af00\">131</span> (524.00 B)\n",
       "</pre>\n"
      ],
      "text/plain": [
       "\u001b[1m Total params: \u001b[0m\u001b[38;5;34m131\u001b[0m (524.00 B)\n"
      ]
     },
     "metadata": {},
     "output_type": "display_data"
    },
    {
     "data": {
      "text/html": [
       "<pre style=\"white-space:pre;overflow-x:auto;line-height:normal;font-family:Menlo,'DejaVu Sans Mono',consolas,'Courier New',monospace\"><span style=\"font-weight: bold\"> Trainable params: </span><span style=\"color: #00af00; text-decoration-color: #00af00\">131</span> (524.00 B)\n",
       "</pre>\n"
      ],
      "text/plain": [
       "\u001b[1m Trainable params: \u001b[0m\u001b[38;5;34m131\u001b[0m (524.00 B)\n"
      ]
     },
     "metadata": {},
     "output_type": "display_data"
    },
    {
     "data": {
      "text/html": [
       "<pre style=\"white-space:pre;overflow-x:auto;line-height:normal;font-family:Menlo,'DejaVu Sans Mono',consolas,'Courier New',monospace\"><span style=\"font-weight: bold\"> Non-trainable params: </span><span style=\"color: #00af00; text-decoration-color: #00af00\">0</span> (0.00 B)\n",
       "</pre>\n"
      ],
      "text/plain": [
       "\u001b[1m Non-trainable params: \u001b[0m\u001b[38;5;34m0\u001b[0m (0.00 B)\n"
      ]
     },
     "metadata": {},
     "output_type": "display_data"
    },
    {
     "name": "stdout",
     "output_type": "stream",
     "text": [
      "\u001b[1m1/1\u001b[0m \u001b[32m━━━━━━━━━━━━━━━━━━━━\u001b[0m\u001b[37m\u001b[0m \u001b[1m0s\u001b[0m 381ms/step - loss: 0.0164\n",
      "Loss no teste: 0.016382\n",
      "\u001b[1m1/1\u001b[0m \u001b[32m━━━━━━━━━━━━━━━━━━━━\u001b[0m\u001b[37m\u001b[0m \u001b[1m0s\u001b[0m 287ms/step\n"
     ]
    }
   ],
   "source": [
    "model = Sequential()\n",
    "model.add(Input(shape=(passo, 1)))\n",
    "model.add(SimpleRNN(10, activation='tanh'))\n",
    "model.add(Dense(1))\n",
    "model.compile(optimizer='adam', loss='mse')\n",
    "model.summary()\n",
    "\n",
    "# Treinar\n",
    "history = model.fit(X_train, y_train, epochs=200, verbose=0)\n",
    "\n",
    "# Avaliar\n",
    "loss = model.evaluate(X_test, y_test)\n",
    "print(f\"Loss no teste: {loss:.6f}\")\n",
    "\n",
    "# Prever\n",
    "y_pred = model.predict(X_test)\n",
    "\n",
    "# Desnormalizar para comparar\n",
    "y_test_rescaled = y_test * np.max(dados)\n",
    "y_pred_rescaled = y_pred * np.max(dados)"
   ]
  },
  {
   "cell_type": "markdown",
   "id": "9ee8f8bb-7abc-4e7b-b846-10691142c6e5",
   "metadata": {},
   "source": [
    "### 📘 5. Visualização"
   ]
  },
  {
   "cell_type": "code",
   "execution_count": 7,
   "id": "e7627e1c-d106-453a-aba3-48aa32c5c796",
   "metadata": {},
   "outputs": [
    {
     "data": {
      "image/png": "[encoded data removed]",
      "text/plain": [
       "<Figure size 640x480 with 1 Axes>"
      ]
     },
     "metadata": {},
     "output_type": "display_data"
    }
   ],
   "source": [
    "plt.plot(y_test_rescaled, label='Real')\n",
    "plt.plot(y_pred_rescaled, label='Previsto')\n",
    "plt.title(\"Previsão de sequência (RNN)\")\n",
    "plt.xlabel(\"Amostras\")\n",
    "plt.ylabel(\"Valor\")\n",
    "plt.legend()\n",
    "plt.grid(True)\n",
    "plt.tight_layout()\n",
    "plt.show()"
   ]
  },
  {
   "cell_type": "markdown",
   "id": "e7b3b6c9-9930-4dbd-bd1e-d1e05047843b",
   "metadata": {},
   "source": [
    "### 📘 6. Conclusão\n",
    "--------------------------------------------------------------\n",
    "Este exemplo mostra como RNNs aprendem padrões temporais simples.\n",
    "Em aplicações reais, usamos embeddings, camadas LSTM/GRU e dados complexos.\n",
    "Mas o conceito central — memória sequencial — é a base para todos os modelos recorrentes."
   ]
  },
  {
   "cell_type": "code",
   "execution_count": null,
   "id": "4783a833-b91b-4d51-b1f2-19af4a547b11",
   "metadata": {},
   "outputs": [],
   "source": []
  }
 ],
 "metadata": {
  "kernelspec": {
   "display_name": "Python [conda env:base] *",
   "language": "python",
   "name": "conda-base-py"
  },
  "language_info": {
   "codemirror_mode": {
    "name": "ipython",
    "version": 3
   },
   "file_extension": ".py",
   "mimetype": "text/x-python",
   "name": "python",
   "nbconvert_exporter": "python",
   "pygments_lexer": "ipython3",
   "version": "3.12.7"
  }
 },
 "nbformat": 4,
 "nbformat_minor": 5
}
