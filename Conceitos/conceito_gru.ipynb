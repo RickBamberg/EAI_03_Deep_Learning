{
 "cells": [
  {
   "cell_type": "markdown",
   "id": "00b202fc-4d69-4963-850e-ecbeba2cd746",
   "metadata": {},
   "source": [
    "### CONCEITO: GRU (GATED RECURRENT UNIT)"
   ]
  },
  {
   "cell_type": "markdown",
   "id": "3907c9be-80db-4707-8804-efc93b1d834d",
   "metadata": {},
   "source": [
    "### 📘 1. Introdução\n",
    "--------------------------------------------------------------\n",
    "As GRUs são uma alternativa simplificada às LSTMs.\n",
    "Também resolvem o problema de dependências longas em RNNs,\n",
    "mas com menos parâmetros (e mais rápidas para treinar).\n",
    "\n",
    "Elas combinam as portas de entrada e esquecimento em uma só,\n",
    "mantendo desempenho competitivo em muitos cenários.\n",
    "\n",
    "Ideal para:\n",
    "- Previsões sequenciais\n",
    "- Tradução de linguagem natural\n",
    "- Aplicações em tempo real"
   ]
  },
  {
   "cell_type": "markdown",
   "id": "aec37865-38e4-434d-b4b0-cbbc53884896",
   "metadata": {},
   "source": [
    "### 📘 2. Estrutura de uma célula GRU\n",
    "--------------------------------------------------------------\n",
    "Principais componentes:\n",
    "- Porta de atualização: controla quanto da memória anterior é mantida\n",
    "- Porta de reinicialização: decide quanto da memória passada deve ser esquecida\n",
    "\n",
    "GRUs são mais simples que LSTMs e funcionam bem em muitos problemas\n",
    "com menos custo computacional."
   ]
  },
  {
   "cell_type": "markdown",
   "id": "5868c1c2-cd01-419c-911c-60e6b6dd24c5",
   "metadata": {},
   "source": [
    "### 📘 3. Exemplo prático: Previsão de sequência"
   ]
  },
  {
   "cell_type": "code",
   "execution_count": 1,
   "id": "7c2edb83-6fc6-472f-a10c-b430ebfebe25",
   "metadata": {},
   "outputs": [],
   "source": [
    "import numpy as np\n",
    "from tensorflow.keras.models import Sequential\n",
    "from tensorflow.keras.layers import GRU, Dense\n",
    "from tensorflow.keras import Input\n",
    "import matplotlib.pyplot as plt\n",
    "\n",
    "# Gerando dados sequenciais simples\n",
    "dados = np.arange(100)\n",
    "\n",
    "# Função para gerar janelas temporais\n",
    "def criar_sequencia(dados, passo):\n",
    "    X, y = [], []\n",
    "    for i in range(len(dados) - passo):\n",
    "        X.append(dados[i:i+passo])\n",
    "        y.append(dados[i+passo])\n",
    "    return np.array(X), np.array(y)\n",
    "\n",
    "passo = 5\n",
    "X, y = criar_sequencia(dados, passo)\n",
    "X = X.reshape((X.shape[0], X.shape[1], 1))\n",
    "\n",
    "# Normalizando os dados\n",
    "X = X / np.max(dados)\n",
    "y = y / np.max(dados)\n",
    "\n",
    "# Separando treino/teste\n",
    "split = int(len(X)*0.8)\n",
    "X_train, X_test = X[:split], X[split:]\n",
    "y_train, y_test = y[:split], y[split:]"
   ]
  },
  {
   "cell_type": "markdown",
   "id": "4e7106fc-581a-4dbb-81a6-61f26bc2ffef",
   "metadata": {},
   "source": [
    "### 📘 4. Construção do modelo GRU"
   ]
  },
  {
   "cell_type": "code",
   "execution_count": 2,
   "id": "d8995f04-d612-4954-8dab-b4e4658066cf",
   "metadata": {},
   "outputs": [
    {
     "data": {
      "text/html": [
       "<pre style=\"white-space:pre;overflow-x:auto;line-height:normal;font-family:Menlo,'DejaVu Sans Mono',consolas,'Courier New',monospace\"><span style=\"font-weight: bold\">Model: \"sequential\"</span>\n",
       "</pre>\n"
      ],
      "text/plain": [
       "\u001b[1mModel: \"sequential\"\u001b[0m\n"
      ]
     },
     "metadata": {},
     "output_type": "display_data"
    },
    {
     "data": {
      "text/html": [
       "<pre style=\"white-space:pre;overflow-x:auto;line-height:normal;font-family:Menlo,'DejaVu Sans Mono',consolas,'Courier New',monospace\">┏━━━━━━━━━━━━━━━━━━━━━━━━━━━━━━━━━━━━━━┳━━━━━━━━━━━━━━━━━━━━━━━━━━━━━┳━━━━━━━━━━━━━━━━━┓\n",
       "┃<span style=\"font-weight: bold\"> Layer (type)                         </span>┃<span style=\"font-weight: bold\"> Output Shape                </span>┃<span style=\"font-weight: bold\">         Param # </span>┃\n",
       "┡━━━━━━━━━━━━━━━━━━━━━━━━━━━━━━━━━━━━━━╇━━━━━━━━━━━━━━━━━━━━━━━━━━━━━╇━━━━━━━━━━━━━━━━━┩\n",
       "│ gru (<span style=\"color: #0087ff; text-decoration-color: #0087ff\">GRU</span>)                            │ (<span style=\"color: #00d7ff; text-decoration-color: #00d7ff\">None</span>, <span style=\"color: #00af00; text-decoration-color: #00af00\">10</span>)                  │             <span style=\"color: #00af00; text-decoration-color: #00af00\">390</span> │\n",
       "├──────────────────────────────────────┼─────────────────────────────┼─────────────────┤\n",
       "│ dense (<span style=\"color: #0087ff; text-decoration-color: #0087ff\">Dense</span>)                        │ (<span style=\"color: #00d7ff; text-decoration-color: #00d7ff\">None</span>, <span style=\"color: #00af00; text-decoration-color: #00af00\">1</span>)                   │              <span style=\"color: #00af00; text-decoration-color: #00af00\">11</span> │\n",
       "└──────────────────────────────────────┴─────────────────────────────┴─────────────────┘\n",
       "</pre>\n"
      ],
      "text/plain": [
       "┏━━━━━━━━━━━━━━━━━━━━━━━━━━━━━━━━━━━━━━┳━━━━━━━━━━━━━━━━━━━━━━━━━━━━━┳━━━━━━━━━━━━━━━━━┓\n",
       "┃\u001b[1m \u001b[0m\u001b[1mLayer (type)                        \u001b[0m\u001b[1m \u001b[0m┃\u001b[1m \u001b[0m\u001b[1mOutput Shape               \u001b[0m\u001b[1m \u001b[0m┃\u001b[1m \u001b[0m\u001b[1m        Param #\u001b[0m\u001b[1m \u001b[0m┃\n",
       "┡━━━━━━━━━━━━━━━━━━━━━━━━━━━━━━━━━━━━━━╇━━━━━━━━━━━━━━━━━━━━━━━━━━━━━╇━━━━━━━━━━━━━━━━━┩\n",
       "│ gru (\u001b[38;5;33mGRU\u001b[0m)                            │ (\u001b[38;5;45mNone\u001b[0m, \u001b[38;5;34m10\u001b[0m)                  │             \u001b[38;5;34m390\u001b[0m │\n",
       "├──────────────────────────────────────┼─────────────────────────────┼─────────────────┤\n",
       "│ dense (\u001b[38;5;33mDense\u001b[0m)                        │ (\u001b[38;5;45mNone\u001b[0m, \u001b[38;5;34m1\u001b[0m)                   │              \u001b[38;5;34m11\u001b[0m │\n",
       "└──────────────────────────────────────┴─────────────────────────────┴─────────────────┘\n"
      ]
     },
     "metadata": {},
     "output_type": "display_data"
    },
    {
     "data": {
      "text/html": [
       "<pre style=\"white-space:pre;overflow-x:auto;line-height:normal;font-family:Menlo,'DejaVu Sans Mono',consolas,'Courier New',monospace\"><span style=\"font-weight: bold\"> Total params: </span><span style=\"color: #00af00; text-decoration-color: #00af00\">401</span> (1.57 KB)\n",
       "</pre>\n"
      ],
      "text/plain": [
       "\u001b[1m Total params: \u001b[0m\u001b[38;5;34m401\u001b[0m (1.57 KB)\n"
      ]
     },
     "metadata": {},
     "output_type": "display_data"
    },
    {
     "data": {
      "text/html": [
       "<pre style=\"white-space:pre;overflow-x:auto;line-height:normal;font-family:Menlo,'DejaVu Sans Mono',consolas,'Courier New',monospace\"><span style=\"font-weight: bold\"> Trainable params: </span><span style=\"color: #00af00; text-decoration-color: #00af00\">401</span> (1.57 KB)\n",
       "</pre>\n"
      ],
      "text/plain": [
       "\u001b[1m Trainable params: \u001b[0m\u001b[38;5;34m401\u001b[0m (1.57 KB)\n"
      ]
     },
     "metadata": {},
     "output_type": "display_data"
    },
    {
     "data": {
      "text/html": [
       "<pre style=\"white-space:pre;overflow-x:auto;line-height:normal;font-family:Menlo,'DejaVu Sans Mono',consolas,'Courier New',monospace\"><span style=\"font-weight: bold\"> Non-trainable params: </span><span style=\"color: #00af00; text-decoration-color: #00af00\">0</span> (0.00 B)\n",
       "</pre>\n"
      ],
      "text/plain": [
       "\u001b[1m Non-trainable params: \u001b[0m\u001b[38;5;34m0\u001b[0m (0.00 B)\n"
      ]
     },
     "metadata": {},
     "output_type": "display_data"
    }
   ],
   "source": [
    "model = Sequential()\n",
    "model.add(Input(shape=(passo, 1)))\n",
    "model.add(GRU(10, activation='tanh'))\n",
    "model.add(Dense(1))\n",
    "model.compile(optimizer='adam', loss='mse')\n",
    "model.summary()"
   ]
  },
  {
   "cell_type": "markdown",
   "id": "32d7d788-9579-434b-8840-d7e894daf1e0",
   "metadata": {},
   "source": [
    "### 📘 5. Treinamento e Avaliação"
   ]
  },
  {
   "cell_type": "code",
   "execution_count": 3,
   "id": "2eb8f994-a69f-4fc7-b7b8-3ecb3ffb6b47",
   "metadata": {},
   "outputs": [
    {
     "name": "stdout",
     "output_type": "stream",
     "text": [
      "\u001b[1m1/1\u001b[0m \u001b[32m━━━━━━━━━━━━━━━━━━━━\u001b[0m\u001b[37m\u001b[0m \u001b[1m1s\u001b[0m 682ms/step - loss: 2.2072e-05\n",
      "Loss no teste: 0.000022\n",
      "\u001b[1m1/1\u001b[0m \u001b[32m━━━━━━━━━━━━━━━━━━━━\u001b[0m\u001b[37m\u001b[0m \u001b[1m0s\u001b[0m 410ms/step\n"
     ]
    }
   ],
   "source": [
    "history = model.fit(X_train, y_train, epochs=200, verbose=0)\n",
    "loss = model.evaluate(X_test, y_test)\n",
    "print(f\"Loss no teste: {loss:.6f}\")\n",
    "\n",
    "# Previsões\n",
    "y_pred = model.predict(X_test)\n",
    "\n",
    "# Desnormalizando\n",
    "y_pred_rescaled = y_pred * np.max(dados)\n",
    "y_test_rescaled = y_test * np.max(dados)"
   ]
  },
  {
   "cell_type": "markdown",
   "id": "f668a349-8ebe-454b-887b-7ee364b21525",
   "metadata": {},
   "source": [
    "### 📘 6. Visualização dos resultados"
   ]
  },
  {
   "cell_type": "code",
   "execution_count": 5,
   "id": "a6af6900-61c1-4f86-9447-532e2924d73e",
   "metadata": {},
   "outputs": [
    {
     "data": {
      "image/png": "[encoded data removed]",
      "text/plain": [
       "<Figure size 640x480 with 1 Axes>"
      ]
     },
     "metadata": {},
     "output_type": "display_data"
    }
   ],
   "source": [
    "plt.plot(y_test_rescaled, label='Real')\n",
    "plt.plot(y_pred_rescaled, label='Previsto')\n",
    "plt.title(\"Previsão com GRU\")\n",
    "plt.xlabel(\"Amostras\")\n",
    "plt.ylabel(\"Valor\")\n",
    "plt.legend()\n",
    "plt.grid(True)\n",
    "plt.tight_layout()\n",
    "plt.show()"
   ]
  },
  {
   "cell_type": "markdown",
   "id": "39c83624-17af-4d19-8236-88ce54a8666d",
   "metadata": {},
   "source": [
    "### 📘 7. Conclusão\n",
    "--------------------------------------------------------------\n",
    "- GRU é uma variação mais simples da LSTM\n",
    "- Menos parâmetros, menor risco de overfitting\n",
    "- Boa escolha para tarefas sequenciais quando os dados\n",
    "  não exigem tanta complexidade de memória\n",
    "\n",
    "Em problemas mais complexos, LSTMs ainda podem ter vantagem\n",
    "Mas GRUs costumam treinar mais rápido com desempenho similar\n",
    "\n",
    "Fim do conceito GRU"
   ]
  },
  {
   "cell_type": "code",
   "execution_count": null,
   "id": "5517626a-2c20-457c-b44d-e854154776a0",
   "metadata": {},
   "outputs": [],
   "source": []
  }
 ],
 "metadata": {
  "kernelspec": {
   "display_name": "Python [conda env:base] *",
   "language": "python",
   "name": "conda-base-py"
  },
  "language_info": {
   "codemirror_mode": {
    "name": "ipython",
    "version": 3
   },
   "file_extension": ".py",
   "mimetype": "text/x-python",
   "name": "python",
   "nbconvert_exporter": "python",
   "pygments_lexer": "ipython3",
   "version": "3.12.7"
  }
 },
 "nbformat": 4,
 "nbformat_minor": 5
}
